{
 "cells": [
  {
   "cell_type": "code",
   "execution_count": 1,
   "id": "f7a19541",
   "metadata": {},
   "outputs": [],
   "source": [
    "import random\n",
    "import math\n",
    "import matplotlib\n",
    "import matplotlib.pyplot as plt\n",
    "import numpy as np\n",
    "import pandas as pd\n",
    "import multiprocessing as mp\n",
    "from multiprocessing import Pool, Process, Manager\n",
    "import seaborn as sns"
   ]
  },
  {
   "cell_type": "markdown",
   "id": "79bd92e4",
   "metadata": {},
   "source": [
    "# model GFP expression"
   ]
  },
  {
   "cell_type": "code",
   "execution_count": 4,
   "id": "899bbcbc",
   "metadata": {},
   "outputs": [],
   "source": [
    "import model\n",
    "mname = 'model'"
   ]
  },
  {
   "cell_type": "code",
   "execution_count": null,
   "id": "29544f68",
   "metadata": {},
   "outputs": [],
   "source": [
    "from datetime import datetime\n",
    "start_time = datetime.now()\n",
    "\n",
    "if __name__ == '__main__':\n",
    "    #multiprocessing the n simulations\n",
    "    #Prepare the lists of lists to store the results, with the manager\n",
    "    with Manager() as manager:\n",
    "        all_t_real = manager.list()\n",
    "        all_r_real = manager.list()\n",
    "        all_pd_real = manager.list()\n",
    "        all_pm_real = manager.list()\n",
    "        \n",
    "        n = []\n",
    "        \n",
    "        number_of_simulations_per_conditions = 1000\n",
    "        \n",
    "        for i in range(number_of_simulations_per_conditions):\n",
    "            n.append(i)\n",
    "\n",
    "                                    \n",
    "        pool = mp.Pool(processes=12)\n",
    "        [pool.apply_async(model.simulate, args=[all_t_real, all_r_real, all_pd_real, all_pm_real, n]) for x in range(number_of_simulations_per_conditions)]\n",
    "        pool.close()\n",
    "        pool.join()\n",
    "    \n",
    "        #transform in a dataframe and save in a excel file (one excel per specie)\n",
    "                                    \n",
    "        df_t = pd.DataFrame.from_records(all_t_real)\n",
    "        file_name = \"t.csv\"\n",
    "        df_t.to_csv (file_name, index = False, header = False)\n",
    "        \n",
    "        df_r = pd.DataFrame.from_records(all_r_real)\n",
    "        file_name = \"r.csv\"\n",
    "        df_r.to_csv (file_name, index = False, header = False)\n",
    "        \n",
    "        df_pd = pd.DataFrame.from_records(all_pd_real)\n",
    "        file_name = \"pd.csv\"\n",
    "        df_pd.to_csv (file_name, index = False, header = False)\n",
    "        \n",
    "        df_pm = pd.DataFrame.from_records(all_pm_real)\n",
    "        file_name = \"pm.csv\"\n",
    "        df_pm.to_csv (file_name, index = False, header = False)\n",
    "    \n",
    "\n",
    "end_time = datetime.now()\n",
    "print('Duration: {}'.format(end_time - start_time))"
   ]
  }
 ],
 "metadata": {
  "kernelspec": {
   "display_name": "Python 3 (ipykernel)",
   "language": "python",
   "name": "python3"
  },
  "language_info": {
   "codemirror_mode": {
    "name": "ipython",
    "version": 3
   },
   "file_extension": ".py",
   "mimetype": "text/x-python",
   "name": "python",
   "nbconvert_exporter": "python",
   "pygments_lexer": "ipython3",
   "version": "3.8.16"
  }
 },
 "nbformat": 4,
 "nbformat_minor": 5
}
